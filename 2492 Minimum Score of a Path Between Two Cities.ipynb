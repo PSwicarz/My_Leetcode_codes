{
 "cells": [
  {
   "cell_type": "markdown",
   "metadata": {},
   "source": [
    "# 2492. Minimum Score of a Path Between Two Cities"
   ]
  },
  {
   "cell_type": "markdown",
   "metadata": {},
   "source": [
    "## Problem"
   ]
  },
  {
   "cell_type": "markdown",
   "metadata": {},
   "source": [
    "\n",
    "You are given a positive integer n representing n cities numbered from 1 to n. You are also given a 2D array roads where roads[i] = [ai, bi, distancei] indicates that there is a bidirectional road between cities ai and bi with a distance equal to distancei. The cities graph is not necessarily connected.\n",
    "\n",
    "The score of a path between two cities is defined as the minimum distance of a road in this path.\n",
    "\n",
    "Return the minimum possible score of a path between cities 1 and n.\n",
    "\n",
    "Note:\n",
    "\n",
    "A path is a sequence of roads between two cities.\n",
    "It is allowed for a path to contain the same road multiple times, and you can visit cities 1 and n multiple times along the path.\n",
    "The test cases are generated such that there is at least one path between 1 and n."
   ]
  },
  {
   "cell_type": "markdown",
   "metadata": {},
   "source": [
    "### Example 1:\n",
    "\n",
    "```\n",
    "Input: n = 4, roads = [[1,2,9],[2,3,6],[2,4,5],[1,4,7]]\n",
    "Output: 5\n",
    "Explanation: The path from city 1 to 4 with the minimum score is: 1 -> 2 -> 4. The score of this path is min(9,5) = 5.\n",
    "It can be shown that no other path has less score.\n",
    "```\n",
    "### Example 2:\n",
    "\n",
    "```\n",
    "Input: n = 4, roads = [[1,2,2],[1,3,4],[3,4,7]]\n",
    "Output: 2\n",
    "Explanation: The path from city 1 to 4 with the minimum score is: 1 -> 2 -> 1 -> 3 -> 4. The score of this path is min(2,2,4,7) = 2.\n",
    "```"
   ]
  },
  {
   "cell_type": "code",
   "execution_count": null,
   "metadata": {},
   "outputs": [],
   "source": []
  },
  {
   "cell_type": "markdown",
   "metadata": {},
   "source": [
    "## Explanation of solution"
   ]
  },
  {
   "cell_type": "markdown",
   "metadata": {},
   "source": [
    "\n",
    "### Intuition\n",
    "At the first glance when you hear weighted graph and shortest path you think about Dijkstra's algorithm and fancy stuff like this, but actually is way simpler. Here we have situation when we care only about shortest SECTION of the path:\n",
    "\n",
    "For example : If we had race from A->C which is only 2 apart, but path was connected with Y->Z which are 1 apart, we would had to go to Y->Z and then back to C, marking 1 as the shortest section.\n",
    "\n",
    "Basically, if all sections were connected (which they dont have to be), we could just go trough list of pahts and check for minimum distance right there.\n",
    "\n",
    "### Approach\n",
    "So all we have to do is to go to trough all possible sections conneted to start/end, and remember which section was shortest. What's important and a bit missleading, it's that we don't have to go trough any point more than once, we must only immediatly check if path is shortest, and THEN drop it, if it leads to point we already visited.\n",
    "\n",
    "In python best for this approach is deque, as with normal BFS, BUT we could use simple list and pop from right, since we have to check all connected points anyway, and we don't care about how long it would take overall.\n",
    "\n",
    "### Complexity\n",
    "Time complexity: at most O(N) since not all points have to be connected into single graph. We care only about those points which are connected with starting point (it's guaranteed that start and finish are connected)\n",
    "\n",
    "Space complexity: O(3N) -> O(N) since we have to store all possible paths in both ways in dictionary and we at worst all sections will be simultaniously in que."
   ]
  },
  {
   "cell_type": "markdown",
   "metadata": {},
   "source": [
    "## Code Solution"
   ]
  },
  {
   "cell_type": "code",
   "execution_count": 1,
   "metadata": {},
   "outputs": [
    {
     "ename": "NameError",
     "evalue": "name 'List' is not defined",
     "output_type": "error",
     "traceback": [
      "\u001b[1;31m---------------------------------------------------------------------------\u001b[0m",
      "\u001b[1;31mNameError\u001b[0m                                 Traceback (most recent call last)",
      "Cell \u001b[1;32mIn[1], line 1\u001b[0m\n\u001b[1;32m----> 1\u001b[0m \u001b[38;5;28;01mclass\u001b[39;00m \u001b[38;5;21;01mSolution\u001b[39;00m:\n\u001b[0;32m      2\u001b[0m     \u001b[38;5;28;01mdef\u001b[39;00m \u001b[38;5;21mminScore\u001b[39m(\u001b[38;5;28mself\u001b[39m, n: \u001b[38;5;28mint\u001b[39m, roads: List[List[\u001b[38;5;28mint\u001b[39m]]) \u001b[38;5;241m-\u001b[39m\u001b[38;5;241m>\u001b[39m \u001b[38;5;28mint\u001b[39m:\n\u001b[0;32m      3\u001b[0m \n\u001b[0;32m      4\u001b[0m         \u001b[38;5;66;03m# we create all possible connections, both ways\u001b[39;00m\n\u001b[0;32m      5\u001b[0m         paths \u001b[38;5;241m=\u001b[39m defaultdict(\u001b[38;5;28mlist\u001b[39m) \n",
      "Cell \u001b[1;32mIn[1], line 2\u001b[0m, in \u001b[0;36mSolution\u001b[1;34m()\u001b[0m\n\u001b[0;32m      1\u001b[0m \u001b[38;5;28;01mclass\u001b[39;00m \u001b[38;5;21;01mSolution\u001b[39;00m:\n\u001b[1;32m----> 2\u001b[0m     \u001b[38;5;28;01mdef\u001b[39;00m \u001b[38;5;21mminScore\u001b[39m(\u001b[38;5;28mself\u001b[39m, n: \u001b[38;5;28mint\u001b[39m, roads: \u001b[43mList\u001b[49m[List[\u001b[38;5;28mint\u001b[39m]]) \u001b[38;5;241m-\u001b[39m\u001b[38;5;241m>\u001b[39m \u001b[38;5;28mint\u001b[39m:\n\u001b[0;32m      3\u001b[0m \n\u001b[0;32m      4\u001b[0m         \u001b[38;5;66;03m# we create all possible connections, both ways\u001b[39;00m\n\u001b[0;32m      5\u001b[0m         paths \u001b[38;5;241m=\u001b[39m defaultdict(\u001b[38;5;28mlist\u001b[39m) \n\u001b[0;32m      6\u001b[0m         \u001b[38;5;28;01mfor\u001b[39;00m x,y,l \u001b[38;5;129;01min\u001b[39;00m roads:\n",
      "\u001b[1;31mNameError\u001b[0m: name 'List' is not defined"
     ]
    }
   ],
   "source": [
    "from collections import defaultdict\n",
    "\n",
    "class Solution:\n",
    "    def minScore(self, n: int, roads: List[List[int]]) -> int:\n",
    "\n",
    "        # we create all possible connections, both ways\n",
    "        paths = defaultdict(list) \n",
    "        for x,y,l in roads:\n",
    "            paths[x].append((y,l))\n",
    "            paths[y].append((x,l))\n",
    "\n",
    "        # to not run in circles, we have to keep visited points in memory\n",
    "        visited = set()\n",
    "        mini = 10**10\n",
    "        # we dont need to use deque since we have to go trough all CONNECTED sections anyway - simple list will be enough\n",
    "        q = []\n",
    "        q.append((1,10**10))\n",
    "        \n",
    "        while q:\n",
    "            cur, l = q.pop()\n",
    "            #it's important to check for minimum lenght immediatly\n",
    "            mini = min(mini,l) \n",
    "            #then if target point was visited, we already stored all his endpoints, and we can skip it\n",
    "            if cur in visited:\n",
    "                continue\n",
    "            #we check for all connections from current point and add it to list\n",
    "            for nxt in paths[cur]:\n",
    "                q.append(nxt)\n",
    "            #finally we add point to visited, to not repeat ourselves, and to not fall into infinite loop\n",
    "            visited.add(cur)\n",
    "\n",
    "        return mini"
   ]
  }
 ],
 "metadata": {
  "kernelspec": {
   "display_name": "Python 3.8.10 64-bit",
   "language": "python",
   "name": "python3"
  },
  "language_info": {
   "codemirror_mode": {
    "name": "ipython",
    "version": 3
   },
   "file_extension": ".py",
   "mimetype": "text/x-python",
   "name": "python",
   "nbconvert_exporter": "python",
   "pygments_lexer": "ipython3",
   "version": "3.8.10"
  },
  "orig_nbformat": 4,
  "vscode": {
   "interpreter": {
    "hash": "b5140b9b8acf20a9e6f56a660042352d8f1928af51c973efc8b7cc0a2c7e88f3"
   }
  }
 },
 "nbformat": 4,
 "nbformat_minor": 2
}
