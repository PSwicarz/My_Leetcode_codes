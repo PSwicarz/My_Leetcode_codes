{
 "cells": [
  {
   "cell_type": "markdown",
   "metadata": {},
   "source": [
    "# 2360. Longest Cycle in a Graph"
   ]
  },
  {
   "cell_type": "markdown",
   "metadata": {},
   "source": [
    "You are given a directed graph of n nodes numbered from 0 to n - 1, where each node has at most one outgoing edge.\n",
    "\n",
    "The graph is represented with a given 0-indexed array edges of size n, indicating that there is a directed edge from node i to node edges[i]. If there is no outgoing edge from node i, then edges[i] == -1.\n",
    "\n",
    "Return the length of the longest cycle in the graph. If no cycle exists, return -1.\n",
    "\n",
    "A cycle is a path that starts and ends at the same node.\n",
    "\n",
    " \n",
    "\n",
    "\n",
    "\n",
    "### Example 1:\n",
    "\n",
    "![Example1](https://assets.leetcode.com/uploads/2022/06/08/graph4drawio-5.png)\n",
    "```\n",
    "Input: edges = [3,3,4,2,3]\n",
    "Output: 3\n",
    "Explanation: The longest cycle in the graph is the cycle: 2 -> 4 -> 3 -> 2.\n",
    "The length of this cycle is 3, so 3 is returned.\n",
    "```\n",
    "\n",
    "\n",
    "### Example 2:\n",
    "\n",
    "![Example2](https://assets.leetcode.com/uploads/2022/06/07/graph4drawio-1.png)\n",
    "```\n",
    "Input: edges = [2,-1,3,1]\n",
    "Output: -1\n",
    "Explanation: There are no cycles in this graph.\n",
    "```\n",
    "\n",
    "```\n",
    "\n",
    "\n",
    "Constraints:\n",
    "\n",
    "n == edges.length\n",
    "2 <= n <= 105\n",
    "-1 <= edges[i] < n\n",
    "edges[i] != i\n",
    "```"
   ]
  },
  {
   "cell_type": "markdown",
   "metadata": {},
   "source": [
    "## Explanation of solution"
   ]
  },
  {
   "cell_type": "markdown",
   "metadata": {},
   "source": [
    "### Intuition\n",
    "We have to keep track of all points visited as well as points visited in current run. Additionally we have to keep track of order of currently visited points, to know when was the first time we saw it.\n",
    "\n",
    "### Approach\n",
    "for all visited we simply create visited_all set outside the loop, to check if have we already been on that point - if we were, and since all points have only one way, we already checked path it leads to and we can break inner loop. The same if we have already been on this point in CURRNET run, this means its a loop. Thats why we need cur_visited list - index of this point in current_visited marks start of the loop, and we can use it (len(cur_visited) - cur_visited.index(point))\n",
    "to check lenght of the loop.\n",
    "\n",
    "### Complexity\n",
    "Time complexity: O(2N) -> O(N) 2 is becouse we are checking for index of point in loop, other than that we visit all the points only once. Checking for already visited in set is O(1)\n",
    "\n",
    "Space complexity: O(N) -> we have to just keep track of already visited indexes, so we have to store them all\n"
   ]
  },
  {
   "cell_type": "markdown",
   "metadata": {},
   "source": [
    "\n",
    "## Code Solution"
   ]
  },
  {
   "cell_type": "code",
   "execution_count": null,
   "metadata": {},
   "outputs": [],
   "source": [
    "class Solution:\n",
    "    def longestCycle(self, edges: List[int]) -> int:\n",
    "\n",
    "        visited_all = set()\n",
    "\n",
    "        maxi = -1\n",
    "        for i in range(len(edges)):\n",
    "            if i in visited_all:\n",
    "                continue\n",
    "\n",
    "            cur_set = set()\n",
    "            cur_visited = []\n",
    "\n",
    "            point = i\n",
    "            while point != -1 and point not in cur_set and point not in visited_all:\n",
    "                cur_set.add(point)\n",
    "                cur_visited.append(point)\n",
    "                point = edges[point]\n",
    "                \n",
    "            if point == -1 or point in visited_all:\n",
    "                continue\n",
    "\n",
    "            visited_all |= cur_set\n",
    "            maxi = max(maxi, len(cur_visited) - cur_visited.index(point))\n",
    "\n",
    "        return maxi"
   ]
  }
 ],
 "metadata": {
  "kernelspec": {
   "display_name": "Python 3.8.10 64-bit",
   "language": "python",
   "name": "python3"
  },
  "language_info": {
   "name": "python",
   "version": "3.8.10"
  },
  "orig_nbformat": 4,
  "vscode": {
   "interpreter": {
    "hash": "b5140b9b8acf20a9e6f56a660042352d8f1928af51c973efc8b7cc0a2c7e88f3"
   }
  }
 },
 "nbformat": 4,
 "nbformat_minor": 2
}
